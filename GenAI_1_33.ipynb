{
  "nbformat": 4,
  "nbformat_minor": 0,
  "metadata": {
    "colab": {
      "provenance": [],
      "gpuType": "T4"
    },
    "kernelspec": {
      "name": "python3",
      "display_name": "Python 3"
    },
    "language_info": {
      "name": "python"
    },
    "accelerator": "GPU"
  },
  "cells": [
    {
      "cell_type": "code",
      "source": [
        "!wget https://raw.githubusercontent.com/dext01/GenAI-1-33/main/genai_1_33.py"
      ],
      "metadata": {
        "id": "yDdKdkr0gBM_"
      },
      "execution_count": null,
      "outputs": []
    },
    {
      "cell_type": "code",
      "source": [
        "from genai_1_33 import load_model_and_tokenizer, generate_advice"
      ],
      "metadata": {
        "id": "q2H44x1HgB90"
      },
      "execution_count": null,
      "outputs": []
    },
    {
      "cell_type": "code",
      "source": [
        "tokenizer, model = load_model_and_tokenizer()"
      ],
      "metadata": {
        "id": "g80ZBc1lgD0V"
      },
      "execution_count": null,
      "outputs": []
    },
    {
      "cell_type": "code",
      "source": [
        "print(generate_advice(\"Дай 3 совета по эффективной учебе\", tokenizer, model))"
      ],
      "metadata": {
        "id": "LC7m2y_WgGBG"
      },
      "execution_count": null,
      "outputs": []
    }
  ]
}